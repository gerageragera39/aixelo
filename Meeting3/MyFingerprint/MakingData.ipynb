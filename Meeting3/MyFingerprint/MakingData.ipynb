{
 "cells": [
  {
   "cell_type": "code",
   "id": "initial_id",
   "metadata": {
    "collapsed": true,
    "ExecuteTime": {
     "end_time": "2025-06-06T12:56:02.306092Z",
     "start_time": "2025-06-06T12:56:02.296118Z"
    }
   },
   "source": [
    "import csv\n",
    "import os\n",
    "import re\n",
    "\n",
    "from collections import defaultdict"
   ],
   "outputs": [],
   "execution_count": 1
  },
  {
   "metadata": {
    "ExecuteTime": {
     "end_time": "2025-06-06T12:56:02.585506Z",
     "start_time": "2025-06-06T12:56:02.465712Z"
    }
   },
   "cell_type": "code",
   "source": [
    "data_dict = {}\n",
    "with open(r\"C:\\Users\\samys\\OneDrive\\Рабочий стол\\AXL_DATA\\DATA\\promising_mof\\promising_mof_energies\\adsorption_energy.txt\", \"r\") as f:\n",
    "    for line in f:\n",
    "        key, value = line.strip().split()\n",
    "        data_dict[key.strip()] = float(value)\n",
    "\n",
    "\n",
    "print(f\"Len : {len(data_dict)} \")"
   ],
   "id": "2d4459b915924cf5",
   "outputs": [
    {
     "name": "stdout",
     "output_type": "stream",
     "text": [
      "Len : 172659 \n"
     ]
    }
   ],
   "execution_count": 2
  },
  {
   "metadata": {
    "ExecuteTime": {
     "end_time": "2025-06-06T12:58:34.701334Z",
     "start_time": "2025-06-06T12:56:02.586818Z"
    }
   },
   "cell_type": "code",
   "source": [
    "root_dir_CO2 = r\"C:\\Users\\samys\\OneDrive\\Рабочий стол\\AXL_DATA\\DATA\\pristine_CO2\"\n",
    "\n",
    "matching_cif_files_CO2 = []\n",
    "\n",
    "pattern = re.compile(r\"_(\\d+)_relaxed\\.cif$\")\n",
    "\n",
    "for subdir, dirs, files in os.walk(root_dir_CO2):\n",
    "    for file in files:\n",
    "        if file.endswith(\".cif\") and pattern.search(file):\n",
    "            name_without_ext = os.path.splitext(file)[0]\n",
    "            for key in data_dict:\n",
    "                if name_without_ext.startswith(key):\n",
    "                    energy = data_dict[key]\n",
    "                    full_file_path = os.path.join(subdir, file)\n",
    "                    matching_cif_files_CO2.append((full_file_path, energy))\n",
    "                    break\n",
    "\n"
   ],
   "id": "c4e7b1583f2eaf7",
   "outputs": [],
   "execution_count": 3
  },
  {
   "metadata": {
    "ExecuteTime": {
     "end_time": "2025-06-06T13:00:28.610460Z",
     "start_time": "2025-06-06T12:58:34.774500Z"
    }
   },
   "cell_type": "code",
   "source": [
    "root_dir_H2O = r\"C:\\Users\\samys\\OneDrive\\Рабочий стол\\AXL_DATA\\DATA\\pristine_H2O\"\n",
    "\n",
    "matching_cif_files_H2O = []\n",
    "\n",
    "pattern = re.compile(r\"_(\\d+)_relaxed\\.cif$\")\n",
    "\n",
    "for subdir, dirs, files in os.walk(root_dir_H2O):\n",
    "    for file in files:\n",
    "        if file.endswith(\".cif\") and pattern.search(file):\n",
    "            name_without_ext = os.path.splitext(file)[0]\n",
    "            for key in data_dict:\n",
    "                if name_without_ext.startswith(key):\n",
    "                    energy = data_dict[key]\n",
    "                    full_file_path = os.path.join(subdir, file)\n",
    "                    matching_cif_files_H2O.append((full_file_path, energy))\n",
    "                    break\n",
    "\n"
   ],
   "id": "99ba95c7987663af",
   "outputs": [],
   "execution_count": 4
  },
  {
   "metadata": {
    "ExecuteTime": {
     "end_time": "2025-06-06T13:00:28.753365Z",
     "start_time": "2025-06-06T13:00:28.656121Z"
    }
   },
   "cell_type": "code",
   "source": [
    "# Сохраняем в CSV\n",
    "output_full = \"matched_cifs_with_energy.csv\"\n",
    "with open(output_full, mode='w', newline='', encoding='utf-8') as csvfile:\n",
    "    writer = csv.writer(csvfile)\n",
    "    writer.writerow(['filename', 'energy'])\n",
    "    writer.writerows(matching_cif_files_CO2 + matching_cif_files_H2O)\n",
    "\n"
   ],
   "id": "e24266ef34ee8366",
   "outputs": [],
   "execution_count": 5
  },
  {
   "metadata": {
    "ExecuteTime": {
     "end_time": "2025-06-06T13:00:29.040041Z",
     "start_time": "2025-06-06T13:00:28.783521Z"
    }
   },
   "cell_type": "code",
   "source": [
    "input_csv = \"matched_cifs_with_energy.csv\"\n",
    "output_csv = \"averaged_energies.csv\"\n",
    "\n",
    "energy_groups = defaultdict(list)\n",
    "\n",
    "# Читаем CSV\n",
    "with open(input_csv, newline='', encoding='utf-8') as csvfile:\n",
    "    reader = csv.reader(csvfile)\n",
    "    header = next(reader)\n",
    "\n",
    "    for row in reader:\n",
    "        filename, energy = row[0], float(row[1])\n",
    "        base = re.sub(r'(_random)?_\\d+_relaxed\\.cif$', '', filename)\n",
    "\n",
    "        energy_groups[base].append(energy)\n",
    "\n",
    "averaged = [(name, sum(vals) / len(vals)) for name, vals in energy_groups.items()]\n",
    "\n",
    "with open(output_csv, mode='w', newline='', encoding='utf-8') as csvfile:\n",
    "    writer = csv.writer(csvfile)\n",
    "    writer.writerow(['MOF_name', 'average_energy'])\n",
    "    writer.writerows(averaged)\n",
    "\n",
    "print(f\"Ready: saved {len(averaged)} raws in '{output_csv}'\")"
   ],
   "id": "bffd23981ef0e8f2",
   "outputs": [
    {
     "name": "stdout",
     "output_type": "stream",
     "text": [
      "Ready: saved 9183 raws in 'averaged_energies.csv'\n"
     ]
    }
   ],
   "execution_count": 6
  },
  {
   "metadata": {
    "ExecuteTime": {
     "end_time": "2025-06-06T13:00:29.104391Z",
     "start_time": "2025-06-06T13:00:29.100008Z"
    }
   },
   "cell_type": "code",
   "source": "print(f'MOFs not in adsorption_energy : {9229 - len(averaged)}')",
   "id": "e6f1b22c937807fe",
   "outputs": [
    {
     "name": "stdout",
     "output_type": "stream",
     "text": [
      "MOFs not in adsorption_energy : 46\n"
     ]
    }
   ],
   "execution_count": 7
  }
 ],
 "metadata": {
  "kernelspec": {
   "display_name": "Python 3",
   "language": "python",
   "name": "python3"
  },
  "language_info": {
   "codemirror_mode": {
    "name": "ipython",
    "version": 2
   },
   "file_extension": ".py",
   "mimetype": "text/x-python",
   "name": "python",
   "nbconvert_exporter": "python",
   "pygments_lexer": "ipython2",
   "version": "2.7.6"
  }
 },
 "nbformat": 4,
 "nbformat_minor": 5
}
